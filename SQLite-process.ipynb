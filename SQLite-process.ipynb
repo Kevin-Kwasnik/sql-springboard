{
 "cells": [
  {
   "cell_type": "markdown",
   "id": "0c6b1dee",
   "metadata": {},
   "source": [
    "## V. Creating a Database Engine with SQLAlchemy\n",
    "\n",
    "`from sqlalchemy import create_engine` <br>\n",
    "` engine = create_engine('sqlite:///Northwind.sqlite')` <br>\n",
    ">  use the function create_engine to fire up an SQL engine that will communicate our queries to the database. The only required argument of create_engine is a string that indicates the type of database you're connecting to and the name of the database. <br>\n",
    "<br>\n",
    "> <span style=\"color:indianred\"> note also: `sqlite:///` required before database name. </span>\n",
    "\n",
    "\n",
    "`table_names = engine.table_names()` <br>\n",
    "`print(table_names)`\n",
    "\n",
    "### A. Workflow of SQL querying\n",
    "\n",
    "1. import packages and functions (above, starting with `from sql...`)\n",
    "2. create the database engine (above, starting with `engine =`)\n",
    "3. connect to the engine\n",
    "4. query the database\n",
    "5. save the query results to a DataFrame\n",
    "6. close the connection\n",
    "\n",
    "#### 3. connect to engine\n",
    "\n",
    "`con = engine.connect()`\n",
    "\n",
    "#### 4. query database\n",
    "`rs = con.execute(\"SELECT * FROM Orders\")`\n",
    "\n",
    "#### 5. save query to DataFrame\n",
    "`df = pd.DataFrame(rs.fetchall())` <br>\n",
    "`df.columns = rs.keys()` \n",
    "> <span style=\"color:royalblue\"> note: this ensures the df has the proper column names </span>\n",
    "#### 6. close\n",
    "`con.close()`\n",
    "\n",
    "### B. Using Context Manager to Open Connection \n",
    "**This replaces steps 3-6 above**\n",
    "\n",
    "`with engine.connect() as con:` <br>\n",
    "&emsp;&emsp; `rs = con.execute(\"SELECT OrderID, OrderDate, ShipName FROM Orders\")` <br>\n",
    "&emsp;&emsp; `df = pd.DataFrame(rs.fetchmany(size=5))` <br>\n",
    "&emsp;&emsp; `df.colmns = rs.keys()`\n",
    "\n",
    "> <span style=\"color:royalblue\"> `fetchmany` returns 5 rows from the database, while `fetchall` returns all rows </span>\n",
    "\n",
    "### C. Pandas to Query\n",
    "**This also replaces steps 3-6 above**\n",
    "\n",
    "`df = pd.read_sql_query(\"SELECT * FROM Orders\", engine\")`\n",
    "\n",
    "#### Advanced Query with Pandas\n",
    "\n",
    "`df = pd.read_sql_query(\"SELECT OrderID, CompanyName FROM Orders\n",
    "INNER JOIN Customers on Orders.CustomerID = Customers.CustomerID\", engine\")`\n"
   ]
  },
  {
   "cell_type": "code",
   "execution_count": null,
   "id": "afc75c8b",
   "metadata": {},
   "outputs": [],
   "source": []
  }
 ],
 "metadata": {
  "kernelspec": {
   "display_name": "Python 3 (ipykernel)",
   "language": "python",
   "name": "python3"
  },
  "language_info": {
   "codemirror_mode": {
    "name": "ipython",
    "version": 3
   },
   "file_extension": ".py",
   "mimetype": "text/x-python",
   "name": "python",
   "nbconvert_exporter": "python",
   "pygments_lexer": "ipython3",
   "version": "3.9.7"
  }
 },
 "nbformat": 4,
 "nbformat_minor": 5
}
